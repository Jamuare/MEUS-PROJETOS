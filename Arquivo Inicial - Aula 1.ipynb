{
 "cells": [
  {
   "cell_type": "markdown",
   "metadata": {},
   "source": [
    "# Automação de Sistemas e Processos com Python\n",
    "\n",
    "### Desafio:\n",
    "\n",
    "Todos os dias, o nosso sistema atualiza as vendas do dia anterior.\n",
    "O seu trabalho diário, como analista, é enviar um e-mail para a diretoria, assim que começar a trabalhar, com o faturamento e a quantidade de produtos vendidos no dia anterior\n",
    "\n",
    "E-mail da diretoria: seugmail+diretoria@gmail.com<br>\n",
    "Local onde o sistema disponibiliza as vendas do dia anterior: https://drive.google.com/drive/folders/149xknr9JvrlEnhNWO49zPcw0PW5icxga?usp=sharing\n",
    "\n",
    "Para resolver isso, vamos usar o pyautogui, uma biblioteca de automação de comandos do mouse e do teclado"
   ]
  },
  {
   "cell_type": "code",
   "execution_count": 20,
   "metadata": {},
   "outputs": [],
   "source": [
    "#importações\n",
    "import pyautogui as ptg\n",
    "import time\n",
    "import pyperclip\n",
    "import pandas as pd"
   ]
  },
  {
   "cell_type": "code",
   "execution_count": 21,
   "metadata": {},
   "outputs": [],
   "source": [
    "ptg.PAUSE = 1\n",
    "\n",
    "#ptg.press('winleft')\n",
    "#ptg.write('chrome')\n",
    "#ptg.press('enter')\n",
    "ptg.alert('Vai começar. Aperte Ok e não mexa em nada')\n",
    "ptg.hotkey('ctrl', 't')\n",
    "\n",
    "link = 'https://drive.google.com/drive/folders/149xknr9JvrlEnhNWO49zPcw0PW5icxga'\n",
    "pyperclip.copy(link)\n",
    "ptg.hotkey('ctrl','v')\n",
    "ptg.press('enter')\n",
    "\n",
    "time.sleep(10)\n",
    "\n",
    "ptg.click(438,380, clicks=2)\n",
    "\n",
    "time.sleep(5)\n",
    "ptg.click(438,380, button='right')\n",
    "ptg.click(650,898)\n",
    "\n",
    "time.sleep(10)\n",
    "\n",
    "df = pd.read_excel(r'C:\\Users\\jamuare\\Downloads\\Vendas - Dez.xlsx')\n",
    "\n",
    "#display(df)"
   ]
  },
  {
   "cell_type": "code",
   "execution_count": 22,
   "metadata": {},
   "outputs": [],
   "source": [
    "#time.sleep(5)\n",
    "#ptg.position()"
   ]
  },
  {
   "cell_type": "markdown",
   "metadata": {},
   "source": [
    "### Vamos agora ler o arquivo baixado para pegar os indicadores\n",
    "\n",
    "- Faturamento\n",
    "- Quantidade de Produtos"
   ]
  },
  {
   "cell_type": "code",
   "execution_count": 23,
   "metadata": {},
   "outputs": [],
   "source": [
    "faturamento = df['Valor Final'].sum()\n",
    "qtde_produtos = df['Quantidade'].sum()"
   ]
  },
  {
   "cell_type": "markdown",
   "metadata": {},
   "source": [
    "### Vamos agora enviar um e-mail pelo gmail"
   ]
  },
  {
   "cell_type": "code",
   "execution_count": 24,
   "metadata": {},
   "outputs": [],
   "source": [
    "ptg.hotkey('ctrl', 't')\n",
    "\n",
    "email = 'mail.google.com'\n",
    "pyperclip.copy(email)\n",
    "ptg.hotkey('ctrl','v')\n",
    "ptg.press('enter')\n",
    "\n",
    "time.sleep(15)"
   ]
  },
  {
   "cell_type": "markdown",
   "metadata": {},
   "source": [
    "#### Use esse código para descobrir qual a posição de um item que queira clicar\n",
    "\n",
    "- Lembre-se: a posição na sua tela é diferente da posição na minha tela"
   ]
  },
  {
   "cell_type": "code",
   "execution_count": 25,
   "metadata": {},
   "outputs": [],
   "source": [
    "ptg.click(107,260)\n",
    "ptg.write('jamuare+diretoria@gmail.com')\n",
    "ptg.press('tab')#seleciona o email\n",
    "ptg.press('tab')#pula para o campo assunto\n",
    "assunto = 'Relatório de vendas de ontem'\n",
    "pyperclip.copy(assunto)\n",
    "ptg.hotkey('ctrl', 'v')#escreve no campo assunto\n",
    "ptg.press('tab')#pula para o campo de conteúdo\n",
    "\n",
    "texto = f\"\"\"\n",
    "Prezados, bom dia\n",
    "\n",
    "O faturamento de ontem foi de: R${faturamento:,.2f}\n",
    "A quantidade de produtos foi de: {qtde_produtos:,}\n",
    "\n",
    "Abraços. T+!\n",
    "\"\"\"\n",
    "\n",
    "pyperclip.copy(texto)\n",
    "ptg.hotkey('ctrl', 'v')\n",
    "ptg.hotkey('ctrl', 'enter')"
   ]
  }
 ],
 "metadata": {
  "kernelspec": {
   "display_name": "Python 3",
   "language": "python",
   "name": "python3"
  },
  "language_info": {
   "codemirror_mode": {
    "name": "ipython",
    "version": 3
   },
   "file_extension": ".py",
   "mimetype": "text/x-python",
   "name": "python",
   "nbconvert_exporter": "python",
   "pygments_lexer": "ipython3",
   "version": "3.8.5"
  }
 },
 "nbformat": 4,
 "nbformat_minor": 4
}
